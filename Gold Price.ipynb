{
 "cells": [
  {
   "cell_type": "code",
   "execution_count": 1,
   "id": "6fc34ece-3105-4be8-b7fb-570c759e4d75",
   "metadata": {
    "tags": []
   },
   "outputs": [],
   "source": [
    "import numpy as np \n",
    "import pandas as pd \n",
    "import matplotlib.pyplot as plt\n",
    "import seaborn as sns \n",
    "from sklearn.model_selection import train_test_split\n",
    "from sklearn.ensemble import RandomForestRegressor\n",
    "from sklearn import metrics"
   ]
  },
  {
   "cell_type": "code",
   "execution_count": 2,
   "id": "6575b2e1-2c43-4b75-9586-2487433d8b7e",
   "metadata": {
    "tags": []
   },
   "outputs": [],
   "source": [
    "GoldData = pd.read_csv(\"gld_price_data.csv\")"
   ]
  },
  {
   "cell_type": "code",
   "execution_count": 3,
   "id": "b8a331a6-bf1d-4428-888d-c1ad0ba8b171",
   "metadata": {
    "tags": []
   },
   "outputs": [
    {
     "data": {
      "text/html": [
       "<div>\n",
       "<style scoped>\n",
       "    .dataframe tbody tr th:only-of-type {\n",
       "        vertical-align: middle;\n",
       "    }\n",
       "\n",
       "    .dataframe tbody tr th {\n",
       "        vertical-align: top;\n",
       "    }\n",
       "\n",
       "    .dataframe thead th {\n",
       "        text-align: right;\n",
       "    }\n",
       "</style>\n",
       "<table border=\"1\" class=\"dataframe\">\n",
       "  <thead>\n",
       "    <tr style=\"text-align: right;\">\n",
       "      <th></th>\n",
       "      <th>Date</th>\n",
       "      <th>SPX</th>\n",
       "      <th>GLD</th>\n",
       "      <th>USO</th>\n",
       "      <th>SLV</th>\n",
       "      <th>EUR/USD</th>\n",
       "    </tr>\n",
       "  </thead>\n",
       "  <tbody>\n",
       "    <tr>\n",
       "      <th>0</th>\n",
       "      <td>1/2/2008</td>\n",
       "      <td>1447.160034</td>\n",
       "      <td>84.860001</td>\n",
       "      <td>78.470001</td>\n",
       "      <td>15.180</td>\n",
       "      <td>1.471692</td>\n",
       "    </tr>\n",
       "    <tr>\n",
       "      <th>1</th>\n",
       "      <td>1/3/2008</td>\n",
       "      <td>1447.160034</td>\n",
       "      <td>85.570000</td>\n",
       "      <td>78.370003</td>\n",
       "      <td>15.285</td>\n",
       "      <td>1.474491</td>\n",
       "    </tr>\n",
       "    <tr>\n",
       "      <th>2</th>\n",
       "      <td>1/4/2008</td>\n",
       "      <td>1411.630005</td>\n",
       "      <td>85.129997</td>\n",
       "      <td>77.309998</td>\n",
       "      <td>15.167</td>\n",
       "      <td>1.475492</td>\n",
       "    </tr>\n",
       "    <tr>\n",
       "      <th>3</th>\n",
       "      <td>1/7/2008</td>\n",
       "      <td>1416.180054</td>\n",
       "      <td>84.769997</td>\n",
       "      <td>75.500000</td>\n",
       "      <td>15.053</td>\n",
       "      <td>1.468299</td>\n",
       "    </tr>\n",
       "    <tr>\n",
       "      <th>4</th>\n",
       "      <td>1/8/2008</td>\n",
       "      <td>1390.189941</td>\n",
       "      <td>86.779999</td>\n",
       "      <td>76.059998</td>\n",
       "      <td>15.590</td>\n",
       "      <td>1.557099</td>\n",
       "    </tr>\n",
       "  </tbody>\n",
       "</table>\n",
       "</div>"
      ],
      "text/plain": [
       "       Date          SPX        GLD        USO     SLV   EUR/USD\n",
       "0  1/2/2008  1447.160034  84.860001  78.470001  15.180  1.471692\n",
       "1  1/3/2008  1447.160034  85.570000  78.370003  15.285  1.474491\n",
       "2  1/4/2008  1411.630005  85.129997  77.309998  15.167  1.475492\n",
       "3  1/7/2008  1416.180054  84.769997  75.500000  15.053  1.468299\n",
       "4  1/8/2008  1390.189941  86.779999  76.059998  15.590  1.557099"
      ]
     },
     "execution_count": 3,
     "metadata": {},
     "output_type": "execute_result"
    }
   ],
   "source": [
    "#to print the first 5 rows\n",
    "GoldData.head()"
   ]
  },
  {
   "cell_type": "code",
   "execution_count": 4,
   "id": "8da10ea4-bbf0-4347-8d0d-6c25dfdb7f65",
   "metadata": {
    "tags": []
   },
   "outputs": [
    {
     "data": {
      "text/html": [
       "<div>\n",
       "<style scoped>\n",
       "    .dataframe tbody tr th:only-of-type {\n",
       "        vertical-align: middle;\n",
       "    }\n",
       "\n",
       "    .dataframe tbody tr th {\n",
       "        vertical-align: top;\n",
       "    }\n",
       "\n",
       "    .dataframe thead th {\n",
       "        text-align: right;\n",
       "    }\n",
       "</style>\n",
       "<table border=\"1\" class=\"dataframe\">\n",
       "  <thead>\n",
       "    <tr style=\"text-align: right;\">\n",
       "      <th></th>\n",
       "      <th>Date</th>\n",
       "      <th>SPX</th>\n",
       "      <th>GLD</th>\n",
       "      <th>USO</th>\n",
       "      <th>SLV</th>\n",
       "      <th>EUR/USD</th>\n",
       "    </tr>\n",
       "  </thead>\n",
       "  <tbody>\n",
       "    <tr>\n",
       "      <th>2285</th>\n",
       "      <td>5/8/2018</td>\n",
       "      <td>2671.919922</td>\n",
       "      <td>124.589996</td>\n",
       "      <td>14.0600</td>\n",
       "      <td>15.5100</td>\n",
       "      <td>1.186789</td>\n",
       "    </tr>\n",
       "    <tr>\n",
       "      <th>2286</th>\n",
       "      <td>5/9/2018</td>\n",
       "      <td>2697.790039</td>\n",
       "      <td>124.330002</td>\n",
       "      <td>14.3700</td>\n",
       "      <td>15.5300</td>\n",
       "      <td>1.184722</td>\n",
       "    </tr>\n",
       "    <tr>\n",
       "      <th>2287</th>\n",
       "      <td>5/10/2018</td>\n",
       "      <td>2723.070068</td>\n",
       "      <td>125.180000</td>\n",
       "      <td>14.4100</td>\n",
       "      <td>15.7400</td>\n",
       "      <td>1.191753</td>\n",
       "    </tr>\n",
       "    <tr>\n",
       "      <th>2288</th>\n",
       "      <td>5/14/2018</td>\n",
       "      <td>2730.129883</td>\n",
       "      <td>124.489998</td>\n",
       "      <td>14.3800</td>\n",
       "      <td>15.5600</td>\n",
       "      <td>1.193118</td>\n",
       "    </tr>\n",
       "    <tr>\n",
       "      <th>2289</th>\n",
       "      <td>5/16/2018</td>\n",
       "      <td>2725.780029</td>\n",
       "      <td>122.543800</td>\n",
       "      <td>14.4058</td>\n",
       "      <td>15.4542</td>\n",
       "      <td>1.182033</td>\n",
       "    </tr>\n",
       "  </tbody>\n",
       "</table>\n",
       "</div>"
      ],
      "text/plain": [
       "           Date          SPX         GLD      USO      SLV   EUR/USD\n",
       "2285   5/8/2018  2671.919922  124.589996  14.0600  15.5100  1.186789\n",
       "2286   5/9/2018  2697.790039  124.330002  14.3700  15.5300  1.184722\n",
       "2287  5/10/2018  2723.070068  125.180000  14.4100  15.7400  1.191753\n",
       "2288  5/14/2018  2730.129883  124.489998  14.3800  15.5600  1.193118\n",
       "2289  5/16/2018  2725.780029  122.543800  14.4058  15.4542  1.182033"
      ]
     },
     "execution_count": 4,
     "metadata": {},
     "output_type": "execute_result"
    }
   ],
   "source": [
    "#to print the last 5 rows\n",
    "GoldData.tail()"
   ]
  },
  {
   "cell_type": "code",
   "execution_count": 5,
   "id": "407c1dcc-aaea-46f1-b32b-990de2095238",
   "metadata": {
    "tags": []
   },
   "outputs": [
    {
     "data": {
      "text/plain": [
       "(2290, 6)"
      ]
     },
     "execution_count": 5,
     "metadata": {},
     "output_type": "execute_result"
    }
   ],
   "source": [
    "#to know the number of rows & columns\n",
    "GoldData.shape\n",
    "#here we have 2290 row and 6 columns"
   ]
  },
  {
   "cell_type": "code",
   "execution_count": 6,
   "id": "5a881436-f4ad-460c-b15e-705ba034ace8",
   "metadata": {
    "tags": []
   },
   "outputs": [
    {
     "name": "stdout",
     "output_type": "stream",
     "text": [
      "<class 'pandas.core.frame.DataFrame'>\n",
      "RangeIndex: 2290 entries, 0 to 2289\n",
      "Data columns (total 6 columns):\n",
      " #   Column   Non-Null Count  Dtype  \n",
      "---  ------   --------------  -----  \n",
      " 0   Date     2290 non-null   object \n",
      " 1   SPX      2290 non-null   float64\n",
      " 2   GLD      2290 non-null   float64\n",
      " 3   USO      2290 non-null   float64\n",
      " 4   SLV      2290 non-null   float64\n",
      " 5   EUR/USD  2290 non-null   float64\n",
      "dtypes: float64(5), object(1)\n",
      "memory usage: 107.5+ KB\n"
     ]
    }
   ],
   "source": [
    "#to know some basic information about the data\n",
    "GoldData.info()"
   ]
  },
  {
   "cell_type": "code",
   "execution_count": 7,
   "id": "f536834e-b74c-440d-b472-479c1ac2d93e",
   "metadata": {
    "tags": []
   },
   "outputs": [
    {
     "data": {
      "text/plain": [
       "Date       0\n",
       "SPX        0\n",
       "GLD        0\n",
       "USO        0\n",
       "SLV        0\n",
       "EUR/USD    0\n",
       "dtype: int64"
      ]
     },
     "execution_count": 7,
     "metadata": {},
     "output_type": "execute_result"
    }
   ],
   "source": [
    "#to know the number of missing in each column\n",
    "GoldData.isnull().sum()"
   ]
  },
  {
   "cell_type": "code",
   "execution_count": 8,
   "id": "943cff7f-b615-4be4-b69f-138c0e7eb716",
   "metadata": {
    "tags": []
   },
   "outputs": [
    {
     "data": {
      "text/html": [
       "<div>\n",
       "<style scoped>\n",
       "    .dataframe tbody tr th:only-of-type {\n",
       "        vertical-align: middle;\n",
       "    }\n",
       "\n",
       "    .dataframe tbody tr th {\n",
       "        vertical-align: top;\n",
       "    }\n",
       "\n",
       "    .dataframe thead th {\n",
       "        text-align: right;\n",
       "    }\n",
       "</style>\n",
       "<table border=\"1\" class=\"dataframe\">\n",
       "  <thead>\n",
       "    <tr style=\"text-align: right;\">\n",
       "      <th></th>\n",
       "      <th>SPX</th>\n",
       "      <th>GLD</th>\n",
       "      <th>USO</th>\n",
       "      <th>SLV</th>\n",
       "      <th>EUR/USD</th>\n",
       "    </tr>\n",
       "  </thead>\n",
       "  <tbody>\n",
       "    <tr>\n",
       "      <th>count</th>\n",
       "      <td>2290.000000</td>\n",
       "      <td>2290.000000</td>\n",
       "      <td>2290.000000</td>\n",
       "      <td>2290.000000</td>\n",
       "      <td>2290.000000</td>\n",
       "    </tr>\n",
       "    <tr>\n",
       "      <th>mean</th>\n",
       "      <td>1654.315776</td>\n",
       "      <td>122.732875</td>\n",
       "      <td>31.842221</td>\n",
       "      <td>20.084997</td>\n",
       "      <td>1.283653</td>\n",
       "    </tr>\n",
       "    <tr>\n",
       "      <th>std</th>\n",
       "      <td>519.111540</td>\n",
       "      <td>23.283346</td>\n",
       "      <td>19.523517</td>\n",
       "      <td>7.092566</td>\n",
       "      <td>0.131547</td>\n",
       "    </tr>\n",
       "    <tr>\n",
       "      <th>min</th>\n",
       "      <td>676.530029</td>\n",
       "      <td>70.000000</td>\n",
       "      <td>7.960000</td>\n",
       "      <td>8.850000</td>\n",
       "      <td>1.039047</td>\n",
       "    </tr>\n",
       "    <tr>\n",
       "      <th>25%</th>\n",
       "      <td>1239.874969</td>\n",
       "      <td>109.725000</td>\n",
       "      <td>14.380000</td>\n",
       "      <td>15.570000</td>\n",
       "      <td>1.171313</td>\n",
       "    </tr>\n",
       "    <tr>\n",
       "      <th>50%</th>\n",
       "      <td>1551.434998</td>\n",
       "      <td>120.580002</td>\n",
       "      <td>33.869999</td>\n",
       "      <td>17.268500</td>\n",
       "      <td>1.303297</td>\n",
       "    </tr>\n",
       "    <tr>\n",
       "      <th>75%</th>\n",
       "      <td>2073.010070</td>\n",
       "      <td>132.840004</td>\n",
       "      <td>37.827501</td>\n",
       "      <td>22.882500</td>\n",
       "      <td>1.369971</td>\n",
       "    </tr>\n",
       "    <tr>\n",
       "      <th>max</th>\n",
       "      <td>2872.870117</td>\n",
       "      <td>184.589996</td>\n",
       "      <td>117.480003</td>\n",
       "      <td>47.259998</td>\n",
       "      <td>1.598798</td>\n",
       "    </tr>\n",
       "  </tbody>\n",
       "</table>\n",
       "</div>"
      ],
      "text/plain": [
       "               SPX          GLD          USO          SLV      EUR/USD\n",
       "count  2290.000000  2290.000000  2290.000000  2290.000000  2290.000000\n",
       "mean   1654.315776   122.732875    31.842221    20.084997     1.283653\n",
       "std     519.111540    23.283346    19.523517     7.092566     0.131547\n",
       "min     676.530029    70.000000     7.960000     8.850000     1.039047\n",
       "25%    1239.874969   109.725000    14.380000    15.570000     1.171313\n",
       "50%    1551.434998   120.580002    33.869999    17.268500     1.303297\n",
       "75%    2073.010070   132.840004    37.827501    22.882500     1.369971\n",
       "max    2872.870117   184.589996   117.480003    47.259998     1.598798"
      ]
     },
     "execution_count": 8,
     "metadata": {},
     "output_type": "execute_result"
    }
   ],
   "source": [
    "#to know the statistical measures of the data\n",
    "GoldData.describe()"
   ]
  },
  {
   "cell_type": "code",
   "execution_count": 9,
   "id": "04b94ada-8d77-41cc-a674-c993441797ad",
   "metadata": {
    "tags": []
   },
   "outputs": [
    {
     "name": "stderr",
     "output_type": "stream",
     "text": [
      "C:\\Users\\omara\\AppData\\Local\\Temp\\ipykernel_7260\\4134007178.py:1: FutureWarning: The default value of numeric_only in DataFrame.corr is deprecated. In a future version, it will default to False. Select only valid columns or specify the value of numeric_only to silence this warning.\n",
      "  correlation = GoldData.corr()\n"
     ]
    }
   ],
   "source": [
    "correlation = GoldData.corr()"
   ]
  },
  {
   "cell_type": "code",
   "execution_count": 10,
   "id": "eeb0a5cb-b322-43bc-ad4c-fa597874d61d",
   "metadata": {
    "tags": []
   },
   "outputs": [
    {
     "data": {
      "text/plain": [
       "<Axes: >"
      ]
     },
     "execution_count": 10,
     "metadata": {},
     "output_type": "execute_result"
    },
    {
     "data": {
      "image/png": "[encoded data removed]",
      "text/plain": [
       "<Figure size 800x800 with 2 Axes>"
      ]
     },
     "metadata": {},
     "output_type": "display_data"
    }
   ],
   "source": [
    "plt.figure(figsize=(8,8))\n",
    "sns.heatmap(correlation, cbar=True, square=True, fmt='.1f', annot=True, annot_kws={'size': 8}, cmap='Greens')"
   ]
  },
  {
   "cell_type": "code",
   "execution_count": 11,
   "id": "c2ab679a-5b82-4660-bf00-edec90f5ebb4",
   "metadata": {},
   "outputs": [
    {
     "name": "stdout",
     "output_type": "stream",
     "text": [
      "SPX        0.049345\n",
      "GLD        1.000000\n",
      "USO       -0.186360\n",
      "SLV        0.866632\n",
      "EUR/USD   -0.024375\n",
      "Name: GLD, dtype: float64\n"
     ]
    }
   ],
   "source": [
    "#to get the correlation value with GLD +ve means direct &-ve means inverse \n",
    "print(correlation['GLD'])"
   ]
  },
  {
   "cell_type": "code",
   "execution_count": 12,
   "id": "65bf1683-ceef-4849-b1f7-52106ddaa638",
   "metadata": {
    "tags": []
   },
   "outputs": [
    {
     "data": {
      "text/plain": [
       "<seaborn.axisgrid.FacetGrid at 0x2b4cf35d650>"
      ]
     },
     "execution_count": 12,
     "metadata": {},
     "output_type": "execute_result"
    },
    {
     "data": {
      "image/png": "[encoded data removed]",
      "text/plain": [
       "<Figure size 500x500 with 1 Axes>"
      ]
     },
     "metadata": {},
     "output_type": "display_data"
    }
   ],
   "source": [
    "sns.displot(GoldData['GLD'] , color='red')"
   ]
  },
  {
   "cell_type": "code",
   "execution_count": 13,
   "id": "e45a2f4b-f16a-4972-87bd-c50426487ba0",
   "metadata": {
    "tags": []
   },
   "outputs": [],
   "source": [
    "x=GoldData.drop(['Date','GLD'] , axis=1)\n",
    "y=GoldData['GLD']"
   ]
  },
  {
   "cell_type": "code",
   "execution_count": 14,
   "id": "78ff9f12-3a11-4c55-81c6-d5dae6f52444",
   "metadata": {
    "tags": []
   },
   "outputs": [
    {
     "name": "stdout",
     "output_type": "stream",
     "text": [
      "              SPX        USO      SLV   EUR/USD\n",
      "0     1447.160034  78.470001  15.1800  1.471692\n",
      "1     1447.160034  78.370003  15.2850  1.474491\n",
      "2     1411.630005  77.309998  15.1670  1.475492\n",
      "3     1416.180054  75.500000  15.0530  1.468299\n",
      "4     1390.189941  76.059998  15.5900  1.557099\n",
      "...           ...        ...      ...       ...\n",
      "2285  2671.919922  14.060000  15.5100  1.186789\n",
      "2286  2697.790039  14.370000  15.5300  1.184722\n",
      "2287  2723.070068  14.410000  15.7400  1.191753\n",
      "2288  2730.129883  14.380000  15.5600  1.193118\n",
      "2289  2725.780029  14.405800  15.4542  1.182033\n",
      "\n",
      "[2290 rows x 4 columns]\n"
     ]
    }
   ],
   "source": [
    "print(x)"
   ]
  },
  {
   "cell_type": "code",
   "execution_count": 16,
   "id": "c637e71f-d8e2-4637-a063-cfd0420de5c5",
   "metadata": {
    "tags": []
   },
   "outputs": [
    {
     "name": "stdout",
     "output_type": "stream",
     "text": [
      "0        84.860001\n",
      "1        85.570000\n",
      "2        85.129997\n",
      "3        84.769997\n",
      "4        86.779999\n",
      "           ...    \n",
      "2285    124.589996\n",
      "2286    124.330002\n",
      "2287    125.180000\n",
      "2288    124.489998\n",
      "2289    122.543800\n",
      "Name: GLD, Length: 2290, dtype: float64\n"
     ]
    }
   ],
   "source": [
    "print(y)"
   ]
  },
  {
   "cell_type": "code",
   "execution_count": 17,
   "id": "e04ef312-0611-4baa-a039-c8c94d64e544",
   "metadata": {
    "tags": []
   },
   "outputs": [],
   "source": [
    "x_train , x_test , y_train , y_test = train_test_split(x , y , test_size=0.2 , random_state=2)"
   ]
  },
  {
   "cell_type": "code",
   "execution_count": 18,
   "id": "9512abde-6648-4a62-933b-525fd2981072",
   "metadata": {
    "tags": []
   },
   "outputs": [],
   "source": [
    "regressor = RandomForestRegressor(n_estimators=100)"
   ]
  },
  {
   "cell_type": "code",
   "execution_count": 19,
   "id": "4e7c54e1-9ae0-408a-95db-286e9d658e26",
   "metadata": {
    "tags": []
   },
   "outputs": [
    {
     "data": {
      "text/html": [
       "<style>#sk-container-id-1 {color: black;background-color: white;}#sk-container-id-1 pre{padding: 0;}#sk-container-id-1 div.sk-toggleable {background-color: white;}#sk-container-id-1 label.sk-toggleable__label {cursor: pointer;display: block;width: 100%;margin-bottom: 0;padding: 0.3em;box-sizing: border-box;text-align: center;}#sk-container-id-1 label.sk-toggleable__label-arrow:before {content: \"▸\";float: left;margin-right: 0.25em;color: #696969;}#sk-container-id-1 label.sk-toggleable__label-arrow:hover:before {color: black;}#sk-container-id-1 div.sk-estimator:hover label.sk-toggleable__label-arrow:before {color: black;}#sk-container-id-1 div.sk-toggleable__content {max-height: 0;max-width: 0;overflow: hidden;text-align: left;background-color: #f0f8ff;}#sk-container-id-1 div.sk-toggleable__content pre {margin: 0.2em;color: black;border-radius: 0.25em;background-color: #f0f8ff;}#sk-container-id-1 input.sk-toggleable__control:checked~div.sk-toggleable__content {max-height: 200px;max-width: 100%;overflow: auto;}#sk-container-id-1 input.sk-toggleable__control:checked~label.sk-toggleable__label-arrow:before {content: \"▾\";}#sk-container-id-1 div.sk-estimator input.sk-toggleable__control:checked~label.sk-toggleable__label {background-color: #d4ebff;}#sk-container-id-1 div.sk-label input.sk-toggleable__control:checked~label.sk-toggleable__label {background-color: #d4ebff;}#sk-container-id-1 input.sk-hidden--visually {border: 0;clip: rect(1px 1px 1px 1px);clip: rect(1px, 1px, 1px, 1px);height: 1px;margin: -1px;overflow: hidden;padding: 0;position: absolute;width: 1px;}#sk-container-id-1 div.sk-estimator {font-family: monospace;background-color: #f0f8ff;border: 1px dotted black;border-radius: 0.25em;box-sizing: border-box;margin-bottom: 0.5em;}#sk-container-id-1 div.sk-estimator:hover {background-color: #d4ebff;}#sk-container-id-1 div.sk-parallel-item::after {content: \"\";width: 100%;border-bottom: 1px solid gray;flex-grow: 1;}#sk-container-id-1 div.sk-label:hover label.sk-toggleable__label {background-color: #d4ebff;}#sk-container-id-1 div.sk-serial::before {content: \"\";position: absolute;border-left: 1px solid gray;box-sizing: border-box;top: 0;bottom: 0;left: 50%;z-index: 0;}#sk-container-id-1 div.sk-serial {display: flex;flex-direction: column;align-items: center;background-color: white;padding-right: 0.2em;padding-left: 0.2em;position: relative;}#sk-container-id-1 div.sk-item {position: relative;z-index: 1;}#sk-container-id-1 div.sk-parallel {display: flex;align-items: stretch;justify-content: center;background-color: white;position: relative;}#sk-container-id-1 div.sk-item::before, #sk-container-id-1 div.sk-parallel-item::before {content: \"\";position: absolute;border-left: 1px solid gray;box-sizing: border-box;top: 0;bottom: 0;left: 50%;z-index: -1;}#sk-container-id-1 div.sk-parallel-item {display: flex;flex-direction: column;z-index: 1;position: relative;background-color: white;}#sk-container-id-1 div.sk-parallel-item:first-child::after {align-self: flex-end;width: 50%;}#sk-container-id-1 div.sk-parallel-item:last-child::after {align-self: flex-start;width: 50%;}#sk-container-id-1 div.sk-parallel-item:only-child::after {width: 0;}#sk-container-id-1 div.sk-dashed-wrapped {border: 1px dashed gray;margin: 0 0.4em 0.5em 0.4em;box-sizing: border-box;padding-bottom: 0.4em;background-color: white;}#sk-container-id-1 div.sk-label label {font-family: monospace;font-weight: bold;display: inline-block;line-height: 1.2em;}#sk-container-id-1 div.sk-label-container {text-align: center;}#sk-container-id-1 div.sk-container {/* jupyter's `normalize.less` sets `[hidden] { display: none; }` but bootstrap.min.css set `[hidden] { display: none !important; }` so we also need the `!important` here to be able to override the default hidden behavior on the sphinx rendered scikit-learn.org. See: https://github.com/scikit-learn/scikit-learn/issues/21755 */display: inline-block !important;position: relative;}#sk-container-id-1 div.sk-text-repr-fallback {display: none;}</style><div id=\"sk-container-id-1\" class=\"sk-top-container\"><div class=\"sk-text-repr-fallback\"><pre>RandomForestRegressor()</pre><b>In a Jupyter environment, please rerun this cell to show the HTML representation or trust the notebook. <br />On GitHub, the HTML representation is unable to render, please try loading this page with nbviewer.org.</b></div><div class=\"sk-container\" hidden><div class=\"sk-item\"><div class=\"sk-estimator sk-toggleable\"><input class=\"sk-toggleable__control sk-hidden--visually\" id=\"sk-estimator-id-1\" type=\"checkbox\" checked><label for=\"sk-estimator-id-1\" class=\"sk-toggleable__label sk-toggleable__label-arrow\">RandomForestRegressor</label><div class=\"sk-toggleable__content\"><pre>RandomForestRegressor()</pre></div></div></div></div></div>"
      ],
      "text/plain": [
       "RandomForestRegressor()"
      ]
     },
     "execution_count": 19,
     "metadata": {},
     "output_type": "execute_result"
    }
   ],
   "source": [
    "regressor.fit(x_train , y_train)"
   ]
  },
  {
   "cell_type": "code",
   "execution_count": 21,
   "id": "aba2e1e6-fd39-489e-94c8-0b419dc0b1b6",
   "metadata": {
    "tags": []
   },
   "outputs": [],
   "source": [
    "test_data_prediction = regressor.predict(x_test)"
   ]
  },
  {
   "cell_type": "code",
   "execution_count": 22,
   "id": "3b960062-3d38-4999-aa6c-32fc6d748e8a",
   "metadata": {
    "tags": []
   },
   "outputs": [
    {
     "name": "stdout",
     "output_type": "stream",
     "text": [
      "[168.64259974  82.0667998  116.1340005  127.64030101 120.71780123\n",
      " 154.56649808 150.15429791 125.97010013 117.46849899 125.90350089\n",
      " 116.5071013  171.64260073 141.67059821 167.81749801 115.13050008\n",
      " 117.57670034 137.99200317 169.97080144 159.17910317 157.6582996\n",
      " 155.15489996 125.17720027 175.92829986 157.58740342 125.15980063\n",
      "  93.78899976  77.23969999 120.10359974 119.11009906 167.49909957\n",
      "  88.28350019 125.21409974  91.14510081 117.65450039 121.10759919\n",
      " 136.37500097 115.36540103 115.43830029 147.77459919 107.29420107\n",
      " 104.09860226  87.10399767 126.53680025 118.1950997  153.20689871\n",
      " 119.73149996 108.27859989 108.0634987   93.13530027 126.98459809\n",
      "  74.67000067 113.60889903 121.65860013 111.0843989  118.82349892\n",
      " 120.52679943 159.52170006 167.9244014  147.07159664  85.75409852\n",
      "  94.42270008  86.66579865  90.40630029 118.69410101 126.39980012\n",
      " 127.6351001  168.92589905 122.2788995  117.49059892  98.37110082\n",
      " 168.24640099 143.12529913 131.75790219 121.18910195 120.98749932\n",
      " 119.77910046 114.48480165 118.27850059 107.05740112 127.9085006\n",
      " 114.06889998 107.48439994 116.79380076 119.59219864  89.20010069\n",
      "  88.26479869 146.72810303 127.13270071 113.34430052 110.34169808\n",
      " 108.3710991   77.25759918 169.90760279 114.00289926 121.58059923\n",
      " 128.06340221 154.80249804  91.76419952 135.64300093 158.83480367\n",
      " 125.65100062 125.28620052 130.49310144 114.78680147 119.75449994\n",
      "  92.1795999  110.3475991  167.23789888 156.63529952 114.14869942\n",
      " 106.72270141  79.70249958 113.33840055 125.7755006  107.34809947\n",
      " 119.71880128 156.27810364 159.30249914 119.88609988 134.22930246\n",
      " 101.32129972 117.42299793 119.36159978 112.88600083 102.77049921\n",
      " 160.0371968   98.98300045 148.40919938 125.53120109 169.79599873\n",
      " 125.71859877 127.23279819 127.40790181 113.81349926 112.88720046\n",
      " 123.83639915 102.21849891  89.32059995 124.72609958 101.4174992\n",
      " 106.89559908 113.86360048 117.04900046  99.36969974 121.6444004\n",
      " 163.44099886  87.20049827 106.94969952 117.00650099 127.65590129\n",
      " 123.99940042  80.7737989  119.78700055 157.70409758  87.8914997\n",
      " 110.40539906 118.99179962 172.28979836 102.96559918 105.30080046\n",
      " 122.59090054 158.08719738  87.79459831  93.3836001  112.79670033\n",
      " 176.91469978 114.29539994 119.34529973  94.45250065 125.72070026\n",
      " 166.4020007  114.89520057 116.57630135  88.36809878 148.82700086\n",
      " 120.38769975  89.57729974 110.75939976 117.11440004 118.69990131\n",
      "  87.92259901  93.96049987 116.97580012 118.77330155 120.28690052\n",
      " 126.7796978  121.82229972 151.03900068 165.24340028 118.54589955\n",
      " 120.27500139 150.40970044 118.45999909 172.52839864 105.65039939\n",
      " 104.92040126 149.30070112 113.75010069 124.80380114 147.52799958\n",
      " 119.61860123 115.27750075 112.09949959 113.4319018  140.81220071\n",
      " 117.76769763 102.88960018 115.77800093 103.55980161  99.10030075\n",
      " 117.15740079  90.64710015  91.58910061 153.73860018 102.71539972\n",
      " 155.18640132 114.2295016  138.61980106  90.14409803 115.43019965\n",
      " 114.61579961 123.19540046 121.7142001  165.36110208  92.90769974\n",
      " 134.83710109 121.33819924 120.84110106 104.84140027 142.5798023\n",
      " 121.42199906 116.62130056 113.66810101 127.33499692 122.55919943\n",
      " 125.78289949 121.24620027  86.85029863 132.25850104 144.82240203\n",
      "  92.76489923 158.30459876 158.9843018  126.26189873 164.60849942\n",
      " 108.92429987 109.55090095 103.79219864  94.19150086 127.79200303\n",
      " 107.09000082 161.76049935 121.69090042 131.81810039 130.42480069\n",
      " 160.39559902  90.22829833 174.94360099 128.41339943 126.77819827\n",
      "  86.77209922 124.58579942 150.20149727  89.75740015 106.98269953\n",
      " 108.95430005  83.65829921 136.0394004  154.60790188 138.50650331\n",
      "  74.50929984 152.3536011  126.15030018 126.71510005 127.52779905\n",
      " 108.70989965 156.26480031 114.55290113 116.92100143 125.28919955\n",
      " 153.92780145 121.43080009 156.41929927  92.91260025 125.60980187\n",
      " 126.0541004   87.87060034  92.26219913 126.25119944 128.25640315\n",
      " 113.17290047 117.48419749 120.92530039 127.22339775 119.82420135\n",
      " 136.16489959  93.97049918 119.91260037 113.09440114  94.40939956\n",
      " 108.59559988  87.22909935 108.9745995   89.60679953  92.50180015\n",
      " 131.66850294 162.38100013  89.51209982 119.64920089 133.46530213\n",
      " 123.94990036 128.36060236 102.08079861  89.13739881 131.84490026\n",
      " 119.95820054 108.71299997 167.9828014  115.26340032  86.55709891\n",
      " 118.90000071  91.02599984 161.9651009  116.26000039 121.44570011\n",
      " 160.18679749 119.88369923 112.74319936 108.44789872 126.76199968\n",
      "  75.9424008  102.97439966 127.62290312 121.84579902  92.61420011\n",
      " 132.40980081 118.04890118 115.91439951 154.69600227 159.55130148\n",
      " 109.95909985 153.61439795 119.29370083 160.74550084 118.03150009\n",
      " 158.95209954 115.14839955 116.63450031 148.12289873 114.85960055\n",
      " 125.40239858 165.45720004 117.94480012 124.79919926 153.33600296\n",
      " 153.51490199 132.11879981 114.92030011 121.28710179 125.18560105\n",
      "  89.72430069 122.8123001  154.97870161 111.74730025 106.84939994\n",
      " 161.0185017  118.58649958 165.72850017 134.07200164 115.05929956\n",
      " 153.03329905 168.57019943 115.0636005  113.96050137 159.24729832\n",
      "  85.05559887 127.1720007  128.0702008  129.05749959 124.15620076\n",
      " 124.03460095  90.51500075 153.35940015  97.0407999  137.51519963\n",
      "  89.21729904 107.52179999 115.07930046 112.91110111 123.75189921\n",
      "  91.44669906 125.3738013  162.54359936 119.82409931 165.214002\n",
      " 126.90579752 112.34210018 127.52859913  94.84239886  90.89479982\n",
      " 103.35439905 120.83210003  83.25569973 126.43319974 159.64180433\n",
      " 117.10590074 118.32160029 119.50959974 122.89509956 120.1149013\n",
      " 121.35070037 118.28710062 106.97540021 148.17379982 126.10179841\n",
      " 115.79920088  74.03239975 127.7794008  154.15060068 121.59329984\n",
      " 125.61150066  88.8044998  103.13479859 124.71660058 120.0615003\n",
      "  73.46840064 151.72359969 121.51680041 104.77130004  86.33199766\n",
      " 114.99619905 172.20489845 119.74000018 160.31629732 113.24699945\n",
      " 120.41729995 118.73250125  95.97349986 118.86410028 126.01000017\n",
      " 118.41239943  96.04630049 153.63770209 122.08129999 147.53229948\n",
      " 159.50690279 113.56380029 122.54369943 148.92539786 127.37740032\n",
      " 165.72590059 135.46889986 119.93039926 167.82409848 108.40289929\n",
      " 121.93059833 138.30450141 105.92579914]\n"
     ]
    }
   ],
   "source": [
    "print(test_data_prediction)"
   ]
  },
  {
   "cell_type": "code",
   "execution_count": 25,
   "id": "dc243cbe-9f26-4ee4-b72b-f93ff357e8d0",
   "metadata": {
    "tags": []
   },
   "outputs": [
    {
     "name": "stdout",
     "output_type": "stream",
     "text": [
      "R Squared Error : 98.93449891957297\n"
     ]
    }
   ],
   "source": [
    "error_score=metrics.r2_score(y_test , test_data_prediction)\n",
    "print(\"R Squared Error :\" , error_score*100)"
   ]
  },
  {
   "cell_type": "code",
   "execution_count": 26,
   "id": "c0d572aa-d11b-4a74-a481-3e59df4221c2",
   "metadata": {
    "tags": []
   },
   "outputs": [],
   "source": [
    "y_test = list(y_test)"
   ]
  },
  {
   "cell_type": "code",
   "execution_count": 32,
   "id": "6712c95a-3a36-46e5-8434-3faee0db2d4d",
   "metadata": {
    "tags": []
   },
   "outputs": [
    {
     "data": {
      "image/png": "[encoded data removed]",
      "text/plain": [
       "<Figure size 640x480 with 1 Axes>"
      ]
     },
     "metadata": {},
     "output_type": "display_data"
    }
   ],
   "source": [
    "plt.plot(y_test , color='black' , label='Actual Value')\n",
    "plt.plot(test_data_prediction , color='blue' , label='Predicted Value')\n",
    "plt.title('Actual Value VS Predicted Value')\n",
    "plt.xlabel('Number of Values')\n",
    "plt.ylabel('Gold Price')\n",
    "plt.legend()\n",
    "plt.show()"
   ]
  },
  {
   "cell_type": "code",
   "execution_count": 33,
   "id": "14d16e1f-7c2a-46fa-84a5-9191b0c3a040",
   "metadata": {
    "tags": []
   },
   "outputs": [
    {
     "data": {
      "text/plain": [
       "'Created by:\\n    Engineer Omar Ashor\\nContact information:\\n    WhatsApp: +201202984561\\n    LinkedIn: https://www.linkedin.com/in/omar-ashor-6927a0214'"
      ]
     },
     "execution_count": 33,
     "metadata": {},
     "output_type": "execute_result"
    }
   ],
   "source": [
    "'''Created by:\n",
    "    Engineer Omar Ashor\n",
    "Contact information:\n",
    "    WhatsApp: +201202984561\n",
    "    LinkedIn: https://www.linkedin.com/in/omar-ashor-6927a0214'''"
   ]
  },
  {
   "cell_type": "code",
   "execution_count": null,
   "id": "ac2a1dd8-c018-4f49-8dc6-064c3ef1ade5",
   "metadata": {},
   "outputs": [],
   "source": []
  }
 ],
 "metadata": {
  "kernelspec": {
   "display_name": "Python 3 (ipykernel)",
   "language": "python",
   "name": "python3"
  },
  "language_info": {
   "codemirror_mode": {
    "name": "ipython",
    "version": 3
   },
   "file_extension": ".py",
   "mimetype": "text/x-python",
   "name": "python",
   "nbconvert_exporter": "python",
   "pygments_lexer": "ipython3",
   "version": "3.11.3"
  }
 },
 "nbformat": 4,
 "nbformat_minor": 5
}
